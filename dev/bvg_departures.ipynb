{
 "cells": [
  {
   "cell_type": "markdown",
   "metadata": {},
   "source": [
    "# What is this?\n",
    "A notebook to experiment with the BVG (Berlin public transport) API."
   ]
  },
  {
   "cell_type": "markdown",
   "metadata": {},
   "source": [
    "https://v6.bvg.transport.rest/\n",
    "rate limit: 100 req/min"
   ]
  },
  {
   "cell_type": "code",
   "execution_count": 6,
   "metadata": {},
   "outputs": [
    {
     "name": "stdout",
     "output_type": "stream",
     "text": [
      "ID for 'Kuno-Fischer-Str.': 'de:11000:900024151::1'\n",
      "ID for 'Amtsgerichtsplatz': 'de:11000:900024104::1'\n",
      "ID for 'Kuno-Fischer-Str.': 'de:11000:900024151::2'\n",
      "ID for 'Amtsgerichtsplatz': 'de:11000:900024104::2'\n",
      "ID for 'Amtsgerichtsplatz': 'de:11000:900024104::3'\n"
     ]
    }
   ],
   "source": [
    "# Find Kuno Fischer and Amtsgericht station ID (the latter only for direction)\n",
    "#!pip install requests\n",
    "import requests\n",
    "\n",
    "# API URL\n",
    "url = \"https://v6.bvg.transport.rest/stops\"\n",
    "\n",
    "# Make the GET request\n",
    "response = requests.get(url)\n",
    "\n",
    "# Check if the request was successful\n",
    "if response.status_code == 200:\n",
    "    data = response.json()  # Parse JSON response\n",
    "else:\n",
    "    print(f\"Error: {response.status_code}\")\n",
    "\n",
    "for d in data:\n",
    "    if \"Kuno-Fischer\" in d[\"name\"]:\n",
    "        print(f\"ID for '{d['name']}': '{d['id']}'\")\n",
    "    if \"Amtsgerichtsplatz\" in d[\"name\"]:\n",
    "        print(f\"ID for '{d['name']}': '{d['id']}'\")"
   ]
  },
  {
   "cell_type": "code",
   "execution_count": 2,
   "metadata": {},
   "outputs": [
    {
     "name": "stdout",
     "output_type": "stream",
     "text": [
      "{'departures': [{'tripId': '1|57481|0|86|19032025', 'stop': {'type': 'stop', 'id': '900024151', 'name': 'Kuno-Fischer-Str. (Berlin)', 'location': {'type': 'location', 'id': '900024151', 'latitude': 52.506613, 'longitude': 13.289778}, 'products': {'suburban': False, 'subway': False, 'tram': False, 'bus': True, 'ferry': False, 'express': False, 'regional': False}}, 'when': None, 'plannedWhen': '2025-03-19T20:15:00+01:00', 'prognosedWhen': None, 'delay': None, 'platform': None, 'plannedPlatform': None, 'prognosedPlatform': None, 'prognosisType': None, 'direction': 'S+U Zoologischer Garten', 'provenance': None, 'line': {'type': 'line', 'id': 'de-vbb-11000000-bus-m49', 'fahrtNr': '148952', 'name': 'M49', 'public': True, 'adminCode': 'BVB---', 'productName': 'Bus', 'mode': 'bus', 'product': 'bus', 'operator': {'type': 'operator', 'id': 'berliner-verkehrsbetriebe', 'name': 'Berliner Verkehrsbetriebe'}}, 'remarks': [{'id': '261268', 'type': 'warning', 'summary': 'The trip is cancelled', 'text': None, 'icon': {'type': 'HIM4', 'title': None}, 'priority': 100, 'products': {'suburban': False, 'subway': False, 'tram': False, 'bus': True, 'ferry': False, 'express': False, 'regional': False}, 'company': 'BVG', 'categories': [4], 'validFrom': '2025-03-19T03:00:00+01:00', 'validUntil': '2025-03-21T03:00:00+01:00', 'modified': '2025-03-15T07:07:39+01:00'}, {'id': '266642', 'type': 'warning', 'summary': 'Strike at the BVG', 'text': 'Until Friday 3 AM U-Bahn, Tram and most Bus services will not run. The BVG will run again from 3 AM, but the service may be irregular.', 'icon': {'type': 'HIM2', 'title': None}, 'priority': 100, 'products': {'suburban': True, 'subway': True, 'tram': True, 'bus': True, 'ferry': True, 'express': True, 'regional': True}, 'company': 'VBB', 'categories': [2], 'validFrom': '2025-03-19T03:00:00+01:00', 'validUntil': '2025-03-21T03:00:00+01:00'}, {'type': 'status', 'code': 'text.realtime.journey.cancelled', 'text': 'M49 has been cancelled'}, {'type': 'status', 'code': 'text.realtime.stop.cancelled', 'text': 'Stop cancelled'}], 'origin': None, 'destination': {'type': 'stop', 'id': '900004181', 'name': 'Hertzallee (Berlin)', 'location': {'type': 'location', 'id': '900004181', 'latitude': 52.509229, 'longitude': 13.332612}, 'products': {'suburban': False, 'subway': False, 'tram': False, 'bus': True, 'ferry': False, 'express': False, 'regional': False}}, 'cancelled': True, 'occupancy': 'low'}, {'tripId': '1|57457|0|86|19032025', 'stop': {'type': 'stop', 'id': '900024151', 'name': 'Kuno-Fischer-Str. (Berlin)', 'location': {'type': 'location', 'id': '900024151', 'latitude': 52.506613, 'longitude': 13.289778}, 'products': {'suburban': False, 'subway': False, 'tram': False, 'bus': True, 'ferry': False, 'express': False, 'regional': False}}, 'when': None, 'plannedWhen': '2025-03-19T20:27:00+01:00', 'prognosedWhen': None, 'delay': None, 'platform': None, 'plannedPlatform': None, 'prognosedPlatform': None, 'prognosisType': None, 'direction': 'S+U Zoologischer Garten', 'provenance': None, 'line': {'type': 'line', 'id': 'de-vbb-11000000-bus-m49', 'fahrtNr': '149016', 'name': 'M49', 'public': True, 'adminCode': 'BVB---', 'productName': 'Bus', 'mode': 'bus', 'product': 'bus', 'operator': {'type': 'operator', 'id': 'berliner-verkehrsbetriebe', 'name': 'Berliner Verkehrsbetriebe'}}, 'remarks': [{'id': '261268', 'type': 'warning', 'summary': 'The trip is cancelled', 'text': None, 'icon': {'type': 'HIM4', 'title': None}, 'priority': 100, 'products': {'suburban': False, 'subway': False, 'tram': False, 'bus': True, 'ferry': False, 'express': False, 'regional': False}, 'company': 'BVG', 'categories': [4], 'validFrom': '2025-03-19T03:00:00+01:00', 'validUntil': '2025-03-21T03:00:00+01:00', 'modified': '2025-03-15T07:07:39+01:00'}, {'id': '266642', 'type': 'warning', 'summary': 'Strike at the BVG', 'text': 'Until Friday 3 AM U-Bahn, Tram and most Bus services will not run. The BVG will run again from 3 AM, but the service may be irregular.', 'icon': {'type': 'HIM2', 'title': None}, 'priority': 100, 'products': {'suburban': True, 'subway': True, 'tram': True, 'bus': True, 'ferry': True, 'express': True, 'regional': True}, 'company': 'VBB', 'categories': [2], 'validFrom': '2025-03-19T03:00:00+01:00', 'validUntil': '2025-03-21T03:00:00+01:00'}, {'type': 'status', 'code': 'text.realtime.journey.cancelled', 'text': 'M49 has been cancelled'}, {'type': 'status', 'code': 'text.realtime.stop.cancelled', 'text': 'Stop cancelled'}], 'origin': None, 'destination': {'type': 'stop', 'id': '900004181', 'name': 'Hertzallee (Berlin)', 'location': {'type': 'location', 'id': '900004181', 'latitude': 52.509229, 'longitude': 13.332612}, 'products': {'suburban': False, 'subway': False, 'tram': False, 'bus': True, 'ferry': False, 'express': False, 'regional': False}}, 'cancelled': True, 'occupancy': 'low'}, {'tripId': '1|57482|0|86|19032025', 'stop': {'type': 'stop', 'id': '900024151', 'name': 'Kuno-Fischer-Str. (Berlin)', 'location': {'type': 'location', 'id': '900024151', 'latitude': 52.506613, 'longitude': 13.289778}, 'products': {'suburban': False, 'subway': False, 'tram': False, 'bus': True, 'ferry': False, 'express': False, 'regional': False}}, 'when': None, 'plannedWhen': '2025-03-19T20:37:00+01:00', 'prognosedWhen': None, 'delay': None, 'platform': None, 'plannedPlatform': None, 'prognosedPlatform': None, 'prognosisType': None, 'direction': 'S+U Zoologischer Garten', 'provenance': None, 'line': {'type': 'line', 'id': 'de-vbb-11000000-bus-m49', 'fahrtNr': '148953', 'name': 'M49', 'public': True, 'adminCode': 'BVB---', 'productName': 'Bus', 'mode': 'bus', 'product': 'bus', 'operator': {'type': 'operator', 'id': 'berliner-verkehrsbetriebe', 'name': 'Berliner Verkehrsbetriebe'}}, 'remarks': [{'id': '261268', 'type': 'warning', 'summary': 'The trip is cancelled', 'text': None, 'icon': {'type': 'HIM4', 'title': None}, 'priority': 100, 'products': {'suburban': False, 'subway': False, 'tram': False, 'bus': True, 'ferry': False, 'express': False, 'regional': False}, 'company': 'BVG', 'categories': [4], 'validFrom': '2025-03-19T03:00:00+01:00', 'validUntil': '2025-03-21T03:00:00+01:00', 'modified': '2025-03-15T07:07:39+01:00'}, {'id': '266642', 'type': 'warning', 'summary': 'Strike at the BVG', 'text': 'Until Friday 3 AM U-Bahn, Tram and most Bus services will not run. The BVG will run again from 3 AM, but the service may be irregular.', 'icon': {'type': 'HIM2', 'title': None}, 'priority': 100, 'products': {'suburban': True, 'subway': True, 'tram': True, 'bus': True, 'ferry': True, 'express': True, 'regional': True}, 'company': 'VBB', 'categories': [2], 'validFrom': '2025-03-19T03:00:00+01:00', 'validUntil': '2025-03-21T03:00:00+01:00'}, {'type': 'status', 'code': 'text.realtime.journey.cancelled', 'text': 'M49 has been cancelled'}, {'type': 'status', 'code': 'text.realtime.stop.cancelled', 'text': 'Stop cancelled'}], 'origin': None, 'destination': {'type': 'stop', 'id': '900004181', 'name': 'Hertzallee (Berlin)', 'location': {'type': 'location', 'id': '900004181', 'latitude': 52.509229, 'longitude': 13.332612}, 'products': {'suburban': False, 'subway': False, 'tram': False, 'bus': True, 'ferry': False, 'express': False, 'regional': False}}, 'cancelled': True, 'occupancy': 'low'}], 'realtimeDataUpdatedAt': 1742411738}\n"
     ]
    }
   ],
   "source": [
    "# API endpoint\n",
    "url = \"https://v6.bvg.transport.rest/stops/900024151/departures\"\n",
    "\n",
    "# Query parameters (customize as needed)\n",
    "params = {\n",
    "    \"direction\": \"900024104\",  # Optional: Filter departures by a specific direction\n",
    "    \"duration\": 30,  # Show departures for the next 10 minutes\n",
    "    \"remarks\": True,  # Include warnings and hints\n",
    "    \"language\": \"en\",  # Language of the results\n",
    "    \"pretty\": True,  # Pretty-print JSON responses\n",
    "}\n",
    "\n",
    "# Send GET request\n",
    "response = requests.get(url, params=params)\n",
    "\n",
    "# Check if the request was successful\n",
    "if response.status_code == 200:\n",
    "    data = response.json()  # Parse JSON response\n",
    "    print(data)  # Print or process the data as needed\n",
    "else:\n",
    "    print(f\"Error: {response.status_code} - {response.text}\")"
   ]
  },
  {
   "cell_type": "code",
   "execution_count": 3,
   "metadata": {},
   "outputs": [
    {
     "data": {
      "text/plain": [
       "{'tripId': '1|57481|0|86|19032025',\n",
       " 'stop': {'type': 'stop',\n",
       "  'id': '900024151',\n",
       "  'name': 'Kuno-Fischer-Str. (Berlin)',\n",
       "  'location': {'type': 'location',\n",
       "   'id': '900024151',\n",
       "   'latitude': 52.506613,\n",
       "   'longitude': 13.289778},\n",
       "  'products': {'suburban': False,\n",
       "   'subway': False,\n",
       "   'tram': False,\n",
       "   'bus': True,\n",
       "   'ferry': False,\n",
       "   'express': False,\n",
       "   'regional': False}},\n",
       " 'when': None,\n",
       " 'plannedWhen': '2025-03-19T20:15:00+01:00',\n",
       " 'prognosedWhen': None,\n",
       " 'delay': None,\n",
       " 'platform': None,\n",
       " 'plannedPlatform': None,\n",
       " 'prognosedPlatform': None,\n",
       " 'prognosisType': None,\n",
       " 'direction': 'S+U Zoologischer Garten',\n",
       " 'provenance': None,\n",
       " 'line': {'type': 'line',\n",
       "  'id': 'de-vbb-11000000-bus-m49',\n",
       "  'fahrtNr': '148952',\n",
       "  'name': 'M49',\n",
       "  'public': True,\n",
       "  'adminCode': 'BVB---',\n",
       "  'productName': 'Bus',\n",
       "  'mode': 'bus',\n",
       "  'product': 'bus',\n",
       "  'operator': {'type': 'operator',\n",
       "   'id': 'berliner-verkehrsbetriebe',\n",
       "   'name': 'Berliner Verkehrsbetriebe'}},\n",
       " 'remarks': [{'id': '261268',\n",
       "   'type': 'warning',\n",
       "   'summary': 'The trip is cancelled',\n",
       "   'text': None,\n",
       "   'icon': {'type': 'HIM4', 'title': None},\n",
       "   'priority': 100,\n",
       "   'products': {'suburban': False,\n",
       "    'subway': False,\n",
       "    'tram': False,\n",
       "    'bus': True,\n",
       "    'ferry': False,\n",
       "    'express': False,\n",
       "    'regional': False},\n",
       "   'company': 'BVG',\n",
       "   'categories': [4],\n",
       "   'validFrom': '2025-03-19T03:00:00+01:00',\n",
       "   'validUntil': '2025-03-21T03:00:00+01:00',\n",
       "   'modified': '2025-03-15T07:07:39+01:00'},\n",
       "  {'id': '266642',\n",
       "   'type': 'warning',\n",
       "   'summary': 'Strike at the BVG',\n",
       "   'text': 'Until Friday 3 AM U-Bahn, Tram and most Bus services will not run. The BVG will run again from 3 AM, but the service may be irregular.',\n",
       "   'icon': {'type': 'HIM2', 'title': None},\n",
       "   'priority': 100,\n",
       "   'products': {'suburban': True,\n",
       "    'subway': True,\n",
       "    'tram': True,\n",
       "    'bus': True,\n",
       "    'ferry': True,\n",
       "    'express': True,\n",
       "    'regional': True},\n",
       "   'company': 'VBB',\n",
       "   'categories': [2],\n",
       "   'validFrom': '2025-03-19T03:00:00+01:00',\n",
       "   'validUntil': '2025-03-21T03:00:00+01:00'},\n",
       "  {'type': 'status',\n",
       "   'code': 'text.realtime.journey.cancelled',\n",
       "   'text': 'M49 has been cancelled'},\n",
       "  {'type': 'status',\n",
       "   'code': 'text.realtime.stop.cancelled',\n",
       "   'text': 'Stop cancelled'}],\n",
       " 'origin': None,\n",
       " 'destination': {'type': 'stop',\n",
       "  'id': '900004181',\n",
       "  'name': 'Hertzallee (Berlin)',\n",
       "  'location': {'type': 'location',\n",
       "   'id': '900004181',\n",
       "   'latitude': 52.509229,\n",
       "   'longitude': 13.332612},\n",
       "  'products': {'suburban': False,\n",
       "   'subway': False,\n",
       "   'tram': False,\n",
       "   'bus': True,\n",
       "   'ferry': False,\n",
       "   'express': False,\n",
       "   'regional': False}},\n",
       " 'cancelled': True,\n",
       " 'occupancy': 'low'}"
      ]
     },
     "execution_count": 3,
     "metadata": {},
     "output_type": "execute_result"
    }
   ],
   "source": [
    "data[\"departures\"][0]"
   ]
  },
  {
   "cell_type": "code",
   "execution_count": null,
   "metadata": {},
   "outputs": [],
   "source": [
    "import pandas as pd\n",
    "import datetime\n",
    "\n",
    "\n",
    "def get_stop_data():\n",
    "    # API endpoint\n",
    "    url = \"https://v6.bvg.transport.rest/stops/900024151/departures\"\n",
    "\n",
    "    # Query parameters (customize as needed)\n",
    "    params = {\n",
    "        \"direction\": \"900024104\",  # Optional: Filter departures by a specific direction\n",
    "        \"duration\": 30,  # Show departures for the next 10 minutes\n",
    "        \"remarks\": True,  # Include warnings and hints\n",
    "        \"language\": \"en\",  # Language of the results\n",
    "        \"pretty\": True,  # Pretty-print JSON responses\n",
    "    }\n",
    "\n",
    "    # Send GET request\n",
    "    response = requests.get(url, params=params)\n",
    "\n",
    "    # Check if the request was successful\n",
    "    if response.status_code == 200:\n",
    "        data = response.json()  # Parse JSON response\n",
    "    else:\n",
    "        print(f\"Error: {response.status_code} - {response.text}\")\n",
    "\n",
    "    result = {\n",
    "        \"type\": [],\n",
    "        \"line\": [],\n",
    "        \"departure\": [],\n",
    "        \"delay\": [],\n",
    "        \"direction\": [],\n",
    "        \"cancelled\": [],\n",
    "    }\n",
    "\n",
    "    for bus in data[\"departures\"]:\n",
    "        assert bus[\"stop\"][\"products\"][\"bus\"], \"The heck? There can only be busses.\"\n",
    "\n",
    "        result[\"type\"].append(\"Bus\")\n",
    "        result[\"line\"].append(bus[\"line\"][\"name\"])\n",
    "        result[\"departure\"].append(\n",
    "            datetime.datetime.fromisoformat(bus[\"plannedWhen\"]).strftime(\"%H:%M:%S\")\n",
    "        )\n",
    "        delay = 0 if bus[\"delay\"] is None else bus[\"delay\"]\n",
    "        delay /= 60\n",
    "        result[\"delay\"].append(delay)\n",
    "        result[\"direction\"].append(bus[\"direction\"])\n",
    "        result[\"cancelled\"].append(bus[\"cancelled\"])\n",
    "\n",
    "    updated_at = datetime.datetime.fromtimestamp(\n",
    "        data[\"realtimeDataUpdatedAt\"]\n",
    "    ).strftime(\"%H:%M:%S\")\n",
    "\n",
    "    return updated_at, pd.DataFrame(result)"
   ]
  },
  {
   "cell_type": "code",
   "execution_count": 8,
   "metadata": {},
   "outputs": [
    {
     "name": "stdout",
     "output_type": "stream",
     "text": [
      "20:17:39\n",
      "  type line departure  delay                direction  cancelled\n",
      "0  Bus  M49  20:27:00    0.0  S+U Zoologischer Garten       True\n",
      "1  Bus  M49  20:37:00    0.0  S+U Zoologischer Garten       True\n",
      "2  Bus  M49  20:47:00    0.0  S+U Zoologischer Garten       True\n"
     ]
    }
   ],
   "source": [
    "t, r = get_stop_data()\n",
    "print(t)\n",
    "print(r)"
   ]
  },
  {
   "cell_type": "code",
   "execution_count": null,
   "metadata": {},
   "outputs": [],
   "source": []
  },
  {
   "cell_type": "code",
   "execution_count": null,
   "metadata": {},
   "outputs": [],
   "source": []
  }
 ],
 "metadata": {
  "kernelspec": {
   "display_name": "3.10",
   "language": "python",
   "name": "python3"
  },
  "language_info": {
   "codemirror_mode": {
    "name": "ipython",
    "version": 3
   },
   "file_extension": ".py",
   "mimetype": "text/x-python",
   "name": "python",
   "nbconvert_exporter": "python",
   "pygments_lexer": "ipython3",
   "version": "3.10.16"
  }
 },
 "nbformat": 4,
 "nbformat_minor": 2
}
