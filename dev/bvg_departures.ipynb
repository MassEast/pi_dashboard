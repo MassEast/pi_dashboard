{
 "cells": [
  {
   "cell_type": "markdown",
   "metadata": {},
   "source": [
    "# What is this?\n",
    "A notebook to experiment with the BVG (Berlin public transport) API."
   ]
  },
  {
   "cell_type": "markdown",
   "metadata": {},
   "source": [
    "https://v6.bvg.transport.rest/\n",
    "rate limit: 100 req/min"
   ]
  },
  {
   "cell_type": "code",
   "execution_count": 28,
   "metadata": {},
   "outputs": [
    {
     "name": "stdout",
     "output_type": "stream",
     "text": [
      "ID for 'S Messe Nord/ICC': 'de:11000:900024106'\n",
      "ID for 'S Messe Nord/ICC': 'de:11000:900024106::4'\n",
      "ID for 'Messegelände/ICC': 'de:11000:900025552::1'\n",
      "ID for 'S Messe Nord/ICC': 'de:11000:900024106::1'\n",
      "ID for 'Kuno-Fischer-Str.': 'de:11000:900024151::1'\n",
      "ID for 'S Messe Nord/ICC': 'de:11000:900024106::3'\n",
      "ID for 'Amtsgerichtsplatz': 'de:11000:900024104::1'\n",
      "ID for 'Kuno-Fischer-Str.': 'de:11000:900024151::2'\n",
      "ID for 'S Messe Nord/ICC': 'de:11000:900024106::2'\n",
      "ID for 'Amtsgerichtsplatz': 'de:11000:900024104::2'\n",
      "ID for 'Messegelände/ICC': 'de:11000:900025552::2'\n",
      "ID for 'Amtsgerichtsplatz': 'de:11000:900024104::3'\n",
      "ID for 'S Messe Nord/ICC': 'de:11000:900024106::5'\n",
      "ID for 'S Messe Nord/ICC': 'de:11000:900024106::6'\n",
      "ID for 'S Messe Nord/ICC': 'de:11000:900024106::7'\n"
     ]
    }
   ],
   "source": [
    "# Find Kuno Fischer and Amtsgericht station ID (the latter only for direction)\n",
    "#!pip install requests\n",
    "import requests\n",
    "\n",
    "# API URL\n",
    "url = \"https://v6.bvg.transport.rest/stops\"\n",
    "\n",
    "# Make the GET request\n",
    "response = requests.get(url)\n",
    "\n",
    "# Check if the request was successful\n",
    "if response.status_code == 200:\n",
    "    data = response.json()  # Parse JSON response\n",
    "else:\n",
    "    print(f\"Error: {response.status_code}\")\n",
    "\n",
    "for d in data:\n",
    "    if \"Kuno-Fischer\" in d[\"name\"]:\n",
    "        print(f\"ID for '{d['name']}': '{d['id']}'\")\n",
    "    if \"Amtsgerichtsplatz\" in d[\"name\"]:\n",
    "        print(f\"ID for '{d['name']}': '{d['id']}'\")\n",
    "    if \"ICC\" in d[\"name\"]:\n",
    "        print(f\"ID for '{d['name']}': '{d['id']}'\")"
   ]
  },
  {
   "cell_type": "code",
   "execution_count": null,
   "metadata": {},
   "outputs": [
    {
     "name": "stdout",
     "output_type": "stream",
     "text": [
      "{'departures': [{'tripId': '1|53000|0|86|30062025', 'stop': {'type': 'stop', 'id': '900024151', 'name': 'Kuno-Fischer-Str. (Berlin)', 'location': {'type': 'location', 'id': '900024151', 'latitude': 52.506613, 'longitude': 13.289778}, 'products': {'suburban': False, 'subway': False, 'tram': False, 'bus': True, 'ferry': False, 'express': False, 'regional': False}}, 'when': '2025-06-30T11:11:00+02:00', 'plannedWhen': '2025-06-30T11:11:00+02:00', 'delay': None, 'platform': None, 'plannedPlatform': None, 'prognosisType': None, 'direction': 'Heerstr./Nennhauser Damm', 'provenance': None, 'line': {'type': 'line', 'id': 'de-vbb-11000000-bus-m49', 'fahrtNr': '135395', 'name': 'M49', 'public': True, 'adminCode': 'BVB---', 'productName': 'Bus', 'mode': 'bus', 'product': 'bus', 'operator': {'type': 'operator', 'id': 'berliner-verkehrsbetriebe', 'name': 'Berliner Verkehrsbetriebe'}}, 'remarks': [], 'origin': None, 'destination': {'type': 'stop', 'id': '900037211', 'name': 'Heerstr./Nennhauser Damm (Berlin)', 'location': {'type': 'location', 'id': '900037211', 'latitude': 52.528951, 'longitude': 13.123118}, 'products': {'suburban': False, 'subway': False, 'tram': False, 'bus': True, 'ferry': False, 'express': False, 'regional': False}}, 'currentTripPosition': {'type': 'location', 'latitude': 52.506838, 'longitude': 13.300143}, 'occupancy': 'low'}, {'tripId': '1|52911|0|86|30062025', 'stop': {'type': 'stop', 'id': '900024151', 'name': 'Kuno-Fischer-Str. (Berlin)', 'location': {'type': 'location', 'id': '900024151', 'latitude': 52.506613, 'longitude': 13.289778}, 'products': {'suburban': False, 'subway': False, 'tram': False, 'bus': True, 'ferry': False, 'express': False, 'regional': False}}, 'when': '2025-06-30T11:21:00+02:00', 'plannedWhen': '2025-06-30T11:21:00+02:00', 'delay': None, 'platform': None, 'plannedPlatform': None, 'prognosisType': None, 'direction': 'Staaken, Reimerweg', 'provenance': None, 'line': {'type': 'line', 'id': 'de-vbb-11000000-bus-m49', 'fahrtNr': '135450', 'name': 'M49', 'public': True, 'adminCode': 'BVB---', 'productName': 'Bus', 'mode': 'bus', 'product': 'bus', 'operator': {'type': 'operator', 'id': 'berliner-verkehrsbetriebe', 'name': 'Berliner Verkehrsbetriebe'}}, 'remarks': [], 'origin': None, 'destination': {'type': 'stop', 'id': '900037274', 'name': 'Reimerweg (Berlin) [Endstelle]', 'location': {'type': 'location', 'id': '900037274', 'latitude': 52.521994, 'longitude': 13.154428}, 'products': {'suburban': False, 'subway': False, 'tram': False, 'bus': True, 'ferry': False, 'express': False, 'regional': False}}, 'currentTripPosition': {'type': 'location', 'latitude': 52.506496, 'longitude': 13.332567}, 'occupancy': 'low'}, {'tripId': '1|53001|0|86|30062025', 'stop': {'type': 'stop', 'id': '900024151', 'name': 'Kuno-Fischer-Str. (Berlin)', 'location': {'type': 'location', 'id': '900024151', 'latitude': 52.506613, 'longitude': 13.289778}, 'products': {'suburban': False, 'subway': False, 'tram': False, 'bus': True, 'ferry': False, 'express': False, 'regional': False}}, 'when': '2025-06-30T11:31:00+02:00', 'plannedWhen': '2025-06-30T11:31:00+02:00', 'delay': None, 'platform': None, 'plannedPlatform': None, 'prognosisType': None, 'direction': 'Heerstr./Nennhauser Damm', 'provenance': None, 'line': {'type': 'line', 'id': 'de-vbb-11000000-bus-m49', 'fahrtNr': '135394', 'name': 'M49', 'public': True, 'adminCode': 'BVB---', 'productName': 'Bus', 'mode': 'bus', 'product': 'bus', 'operator': {'type': 'operator', 'id': 'berliner-verkehrsbetriebe', 'name': 'Berliner Verkehrsbetriebe'}}, 'remarks': [], 'origin': None, 'destination': {'type': 'stop', 'id': '900037211', 'name': 'Heerstr./Nennhauser Damm (Berlin)', 'location': {'type': 'location', 'id': '900037211', 'latitude': 52.528951, 'longitude': 13.123118}, 'products': {'suburban': False, 'subway': False, 'tram': False, 'bus': True, 'ferry': False, 'express': False, 'regional': False}}, 'occupancy': 'low'}], 'realtimeDataUpdatedAt': 1751273984}\n"
     ]
    }
   ],
   "source": [
    "# API endpoint\n",
    "url = \"https://v6.bvg.transport.rest/stops/900024151/departures\"\n",
    "\n",
    "# Query parameters (customize as needed)\n",
    "params = {\n",
    "    # \"direction\": \"900024104\",  # Optional: Filter departures by a specific direction\n",
    "    \"direction\": \"900024106\",\n",
    "    \"duration\": 30,  # Show departures for the next 10 minutes\n",
    "    \"remarks\": True,  # Include warnings and hints\n",
    "    \"language\": \"en\",  # Language of the results\n",
    "    \"pretty\": True,  # Pretty-print JSON responses\n",
    "}\n",
    "\n",
    "# Send GET request\n",
    "response = requests.get(url, params=params)\n",
    "\n",
    "# Check if the request was successful\n",
    "if response.status_code == 200:\n",
    "    data = response.json()  # Parse JSON response\n",
    "    print(data)  # Print or process the data as needed\n",
    "else:\n",
    "    print(f\"Error: {response.status_code} - {response.text}\")"
   ]
  },
  {
   "cell_type": "code",
   "execution_count": 30,
   "metadata": {},
   "outputs": [
    {
     "data": {
      "text/plain": [
       "{'tripId': '1|53000|0|86|30062025',\n",
       " 'stop': {'type': 'stop',\n",
       "  'id': '900024151',\n",
       "  'name': 'Kuno-Fischer-Str. (Berlin)',\n",
       "  'location': {'type': 'location',\n",
       "   'id': '900024151',\n",
       "   'latitude': 52.506613,\n",
       "   'longitude': 13.289778},\n",
       "  'products': {'suburban': False,\n",
       "   'subway': False,\n",
       "   'tram': False,\n",
       "   'bus': True,\n",
       "   'ferry': False,\n",
       "   'express': False,\n",
       "   'regional': False}},\n",
       " 'when': '2025-06-30T11:11:00+02:00',\n",
       " 'plannedWhen': '2025-06-30T11:11:00+02:00',\n",
       " 'delay': None,\n",
       " 'platform': None,\n",
       " 'plannedPlatform': None,\n",
       " 'prognosisType': None,\n",
       " 'direction': 'Heerstr./Nennhauser Damm',\n",
       " 'provenance': None,\n",
       " 'line': {'type': 'line',\n",
       "  'id': 'de-vbb-11000000-bus-m49',\n",
       "  'fahrtNr': '135395',\n",
       "  'name': 'M49',\n",
       "  'public': True,\n",
       "  'adminCode': 'BVB---',\n",
       "  'productName': 'Bus',\n",
       "  'mode': 'bus',\n",
       "  'product': 'bus',\n",
       "  'operator': {'type': 'operator',\n",
       "   'id': 'berliner-verkehrsbetriebe',\n",
       "   'name': 'Berliner Verkehrsbetriebe'}},\n",
       " 'remarks': [],\n",
       " 'origin': None,\n",
       " 'destination': {'type': 'stop',\n",
       "  'id': '900037211',\n",
       "  'name': 'Heerstr./Nennhauser Damm (Berlin)',\n",
       "  'location': {'type': 'location',\n",
       "   'id': '900037211',\n",
       "   'latitude': 52.528951,\n",
       "   'longitude': 13.123118},\n",
       "  'products': {'suburban': False,\n",
       "   'subway': False,\n",
       "   'tram': False,\n",
       "   'bus': True,\n",
       "   'ferry': False,\n",
       "   'express': False,\n",
       "   'regional': False}},\n",
       " 'currentTripPosition': {'type': 'location',\n",
       "  'latitude': 52.506838,\n",
       "  'longitude': 13.300143},\n",
       " 'occupancy': 'low'}"
      ]
     },
     "execution_count": 30,
     "metadata": {},
     "output_type": "execute_result"
    }
   ],
   "source": [
    "data[\"departures\"][0]"
   ]
  },
  {
   "cell_type": "code",
   "execution_count": 48,
   "metadata": {},
   "outputs": [],
   "source": [
    "import pandas as pd\n",
    "import datetime\n",
    "from zoneinfo import ZoneInfo\n",
    "\n",
    "berlin = ZoneInfo(\"Europe/Berlin\")\n",
    "\n",
    "\n",
    "def get_stop_data():\n",
    "    # API endpoint\n",
    "    url = \"https://v6.bvg.transport.rest/stops/900024151/departures\"\n",
    "\n",
    "    # Query parameters (customize as needed)\n",
    "    params = {\n",
    "        \"when\": (datetime.datetime.now(berlin) + datetime.timedelta(minutes=-5)).isoformat(),\n",
    "        # \"direction\": \"900024104\",  # Optional: Filter departures by a specific direction\n",
    "        \"direction\": \"900024106\",\n",
    "        \"duration\": 25,  # Show departures for the next 25 minutes\n",
    "        \"remarks\": True,  # Include warnings and hints\n",
    "        \"language\": \"en\",  # Language of the results\n",
    "        \"pretty\": True,  # Pretty-print JSON responses\n",
    "    }\n",
    "\n",
    "    # Send GET request\n",
    "    response = requests.get(url, params=params)\n",
    "\n",
    "    # Check if the request was successful\n",
    "    if response.status_code == 200:\n",
    "        data = response.json()  # Parse JSON response\n",
    "    else:\n",
    "        print(f\"Error: {response.status_code} - {response.text}\")\n",
    "\n",
    "    result = {\n",
    "        \"type\": [],\n",
    "        \"line\": [],\n",
    "        \"departure\": [],\n",
    "        \"delay\": [],\n",
    "        \"direction\": [],\n",
    "        \"cancelled\": [],\n",
    "    }\n",
    "\n",
    "    for bus in data[\"departures\"]:\n",
    "        assert bus[\"stop\"][\"products\"][\"bus\"], \"The heck? There can only be busses.\"\n",
    "\n",
    "        result[\"type\"].append(\"Bus\")\n",
    "        result[\"line\"].append(bus[\"line\"][\"name\"])\n",
    "        result[\"departure\"].append(\n",
    "            datetime.datetime.fromisoformat(bus[\"plannedWhen\"]).strftime(\"%H:%M:%S\")\n",
    "        )\n",
    "        delay = 0 if bus[\"delay\"] is None else bus[\"delay\"]\n",
    "        delay /= 60\n",
    "        result[\"delay\"].append(delay)\n",
    "        result[\"direction\"].append(bus[\"direction\"])\n",
    "        if \"cancelled\" in bus:\n",
    "            result[\"cancelled\"].append(bus[\"cancelled\"])\n",
    "        else:\n",
    "            result[\"cancelled\"].append(False)\n",
    "\n",
    "    updated_at = datetime.datetime.fromtimestamp(data[\"realtimeDataUpdatedAt\"]).strftime(\"%H:%M:%S\")\n",
    "\n",
    "    return updated_at, pd.DataFrame(result)"
   ]
  },
  {
   "cell_type": "code",
   "execution_count": 49,
   "metadata": {},
   "outputs": [
    {
     "name": "stdout",
     "output_type": "stream",
     "text": [
      "11:06:32\n",
      "  type line departure  delay                 direction  cancelled\n",
      "0  Bus  M49  11:11:00    0.0  Heerstr./Nennhauser Damm      False\n",
      "1  Bus  M49  11:21:00    0.0        Staaken, Reimerweg      False\n",
      "2  Bus  M49  11:31:00    0.0  Heerstr./Nennhauser Damm      False\n"
     ]
    }
   ],
   "source": [
    "t, r = get_stop_data()\n",
    "print(t)\n",
    "print(r)"
   ]
  },
  {
   "cell_type": "code",
   "execution_count": null,
   "metadata": {},
   "outputs": [],
   "source": []
  },
  {
   "cell_type": "code",
   "execution_count": null,
   "metadata": {},
   "outputs": [],
   "source": []
  }
 ],
 "metadata": {
  "kernelspec": {
   "display_name": "Python 3",
   "language": "python",
   "name": "python3"
  },
  "language_info": {
   "codemirror_mode": {
    "name": "ipython",
    "version": 3
   },
   "file_extension": ".py",
   "mimetype": "text/x-python",
   "name": "python",
   "nbconvert_exporter": "python",
   "pygments_lexer": "ipython3",
   "version": "3.10.18"
  }
 },
 "nbformat": 4,
 "nbformat_minor": 2
}
